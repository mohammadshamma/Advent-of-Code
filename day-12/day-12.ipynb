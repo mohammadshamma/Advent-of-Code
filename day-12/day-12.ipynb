{
 "cells": [
  {
   "cell_type": "code",
   "execution_count": 8,
   "metadata": {},
   "outputs": [
    {
     "name": "stdout",
     "output_type": "stream",
     "text": [
      "Part One: 7753\n"
     ]
    }
   ],
   "source": [
    "from typing import List\n",
    "\n",
    "# open text file\n",
    "def ReadFile(filename: str):\n",
    "  with open(filename, 'r') as f:\n",
    "    lines = f.readlines()\n",
    "  return lines\n",
    "\n",
    "def FindNumberOfArrangements(spring_conditions: str, contiguous_groups_of_damaged_springs: list) -> int:\n",
    "  current_index = spring_conditions.find('?')\n",
    "  if current_index == -1:\n",
    "    if [len(damage) for damage in filter(lambda x: x != '', spring_conditions.split('.'))] == contiguous_groups_of_damaged_springs:\n",
    "      return 1\n",
    "    else:\n",
    "      return 0\n",
    "  else:\n",
    "    return FindNumberOfArrangements(spring_conditions[:current_index] + '.' + spring_conditions[current_index + 1:], contiguous_groups_of_damaged_springs) + FindNumberOfArrangements(spring_conditions[:current_index] + '#' + spring_conditions[current_index + 1:], contiguous_groups_of_damaged_springs)\n",
    "\n",
    "def ParseLine(line: str) -> str:\n",
    "  spring_conditions, contiguous_groups_of_damaged_springs_str = line.strip().split(' ')\n",
    "  contiguous_groups_of_damaged_springs = list(map(int, contiguous_groups_of_damaged_springs_str.strip().split(',')))\n",
    "  return spring_conditions, contiguous_groups_of_damaged_springs\n",
    "\n",
    "def SolvePartOne(input_file: str) -> int:\n",
    "  lines = ReadFile(input_file)\n",
    "  arrangements_count = 0\n",
    "  for line in lines:\n",
    "    spring_conditions, contiguous_groups_of_damaged_springs = ParseLine(line)\n",
    "    arrangements_count += FindNumberOfArrangements(spring_conditions, contiguous_groups_of_damaged_springs)\n",
    "  return arrangements_count\n",
    "\n",
    "\n",
    "assert SolvePartOne('sample.txt') == 21\n",
    "part_one_solution = SolvePartOne('input.txt')\n",
    "print(f'Part One: {part_one_solution}')\n",
    "assert part_one_solution == 7753\n",
    "\n"
   ]
  }
 ],
 "metadata": {
  "kernelspec": {
   "display_name": "Python 3",
   "language": "python",
   "name": "python3"
  },
  "language_info": {
   "codemirror_mode": {
    "name": "ipython",
    "version": 3
   },
   "file_extension": ".py",
   "mimetype": "text/x-python",
   "name": "python",
   "nbconvert_exporter": "python",
   "pygments_lexer": "ipython3",
   "version": "3.11.5"
  }
 },
 "nbformat": 4,
 "nbformat_minor": 2
}
