{
 "cells": [
  {
   "cell_type": "code",
   "execution_count": 3,
   "metadata": {},
   "outputs": [
    {
     "name": "stdout",
     "output_type": "stream",
     "text": [
      "Part one solution: 840336\n"
     ]
    }
   ],
   "source": [
    "# open text file\n",
    "def ReadFile(filename: str):\n",
    "  with open(filename, 'r') as f:\n",
    "    lines = f.readlines()\n",
    "  return lines\n",
    "\n",
    "def ParseTimeDistancePairs(lines):\n",
    "  assert len(lines) == 2\n",
    "  # Parse the time list\n",
    "  times_str = lines[0].removeprefix('Time:').strip()\n",
    "  times = [int(x) for x in times_str.split()]\n",
    "  distances_str = lines[1].removeprefix('Distance:').strip()\n",
    "  distances = [int(x) for x in distances_str.split()]\n",
    "  # zip the two lists\n",
    "  return zip(times, distances)\n",
    "\n",
    "def GetCountOfWaysToBeatRecord(time: int, record_distance: int):\n",
    "  count_ways_to_beat_record = 0\n",
    "  for t in range(0, time + 1):\n",
    "    speed = t\n",
    "    distance = speed * (time - t)\n",
    "    if distance > record_distance:\n",
    "      count_ways_to_beat_record += 1\n",
    "  return count_ways_to_beat_record\n",
    "      \n",
    "def SolvePartOne(input_file: str):\n",
    "  lines = ReadFile(input_file)\n",
    "  pairs = ParseTimeDistancePairs(lines)\n",
    "  count_ways_to_beat_record_multiplication = 1\n",
    "  for time, record_distance in pairs:\n",
    "    count_ways_to_beat_record_multiplication *= GetCountOfWaysToBeatRecord(time, record_distance)\n",
    "  return count_ways_to_beat_record_multiplication\n",
    "\n",
    "assert SolvePartOne('sample.txt') == 288\n",
    "part_one_solution = SolvePartOne('input.txt')\n",
    "print(f'Part one solution: {part_one_solution}')\n",
    "assert part_one_solution == 840336\n",
    "\n",
    "  "
   ]
  }
 ],
 "metadata": {
  "kernelspec": {
   "display_name": "Python 3",
   "language": "python",
   "name": "python3"
  },
  "language_info": {
   "codemirror_mode": {
    "name": "ipython",
    "version": 3
   },
   "file_extension": ".py",
   "mimetype": "text/x-python",
   "name": "python",
   "nbconvert_exporter": "python",
   "pygments_lexer": "ipython3",
   "version": "3.11.5"
  }
 },
 "nbformat": 4,
 "nbformat_minor": 2
}
