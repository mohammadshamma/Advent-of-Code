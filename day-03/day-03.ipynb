{
 "cells": [
  {
   "cell_type": "code",
   "execution_count": 10,
   "metadata": {},
   "outputs": [
    {
     "name": "stdout",
     "output_type": "stream",
     "text": [
      "520019\n"
     ]
    }
   ],
   "source": [
    "# open text file\n",
    "def ReadFile(filename: str):\n",
    "  with open(filename, 'r') as f:\n",
    "    lines = f.readlines()\n",
    "  return lines\n",
    "\n",
    "# Iterator over characters in a string extracting numbers\n",
    "def ExtractNumbers(string: str):\n",
    "  number = ''\n",
    "  start_index = 0\n",
    "  for i, char in enumerate(string):\n",
    "    if char.isdigit():\n",
    "      if number == '':\n",
    "        start_index = i\n",
    "      number += char\n",
    "    else:\n",
    "      if number != '':\n",
    "        yield int(number), start_index, len(number)\n",
    "        number = ''\n",
    "  if number != '':\n",
    "    yield int(number), start_index, len(number)\n",
    "\n",
    "def SolvePartOne(input_file: str):\n",
    "  lines = ReadFile(input_file)\n",
    "  sum_of_part_ids = 0\n",
    "  for i in range(len(lines)):\n",
    "    lines[i] = lines[i].strip()\n",
    "    # extract numbers from line\n",
    "    for (number, number_index, number_length) in ExtractNumbers(lines[i]):\n",
    "      # process the number\n",
    "      # print(number, number_index, number_length)\n",
    "      # Check if there is a non '.' character adjacent to the number or diagonal to the number\n",
    "      is_part_number = False\n",
    "      # First check the row above\n",
    "      if i > 0:\n",
    "        start_x = number_index - 1 if number_index > 0 else number_index\n",
    "        end_x = number_index + number_length + 1 if number_index + number_length < len(lines[i]) else number_index + number_length\n",
    "        for j in range(start_x, end_x):\n",
    "          if lines[i-1][j] != '.':\n",
    "            is_part_number = True\n",
    "            break\n",
    "      # Check the row below\n",
    "      if i < len(lines) - 1:\n",
    "        start_x = number_index - 1 if number_index > 0 else number_index\n",
    "        end_x = number_index + number_length + 1 if number_index + number_length < len(lines[i]) else number_index + number_length\n",
    "        for j in range(start_x, end_x):\n",
    "          if lines[i+1][j] != '.':\n",
    "            is_part_number = True\n",
    "            break\n",
    "      # Check the cell to the left\n",
    "      if number_index > 0:\n",
    "        if lines[i][number_index - 1] != '.':\n",
    "          is_part_number = True\n",
    "      # Check the cell to the right\n",
    "      if number_index + number_length < len(lines[i]):\n",
    "        if lines[i][number_index + number_length] != '.':\n",
    "          is_part_number = True\n",
    "      if is_part_number:\n",
    "        sum_of_part_ids += number\n",
    "  return sum_of_part_ids\n",
    "  \n",
    "assert SolvePartOne('sample.txt') == 4361\n",
    "part_one_answer = SolvePartOne('input.txt')\n",
    "print(f'Part One Answer: {part_one_answer}')\n",
    "assert part_one_answer == 520019"
   ]
  }
 ],
 "metadata": {
  "kernelspec": {
   "display_name": "Python 3",
   "language": "python",
   "name": "python3"
  },
  "language_info": {
   "codemirror_mode": {
    "name": "ipython",
    "version": 3
   },
   "file_extension": ".py",
   "mimetype": "text/x-python",
   "name": "python",
   "nbconvert_exporter": "python",
   "pygments_lexer": "ipython3",
   "version": "3.11.5"
  }
 },
 "nbformat": 4,
 "nbformat_minor": 2
}
