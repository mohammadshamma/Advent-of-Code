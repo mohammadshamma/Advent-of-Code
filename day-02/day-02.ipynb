{
 "cells": [
  {
   "cell_type": "code",
   "execution_count": 8,
   "metadata": {},
   "outputs": [
    {
     "name": "stdout",
     "output_type": "stream",
     "text": [
      "Part 1 solution: 2439\n"
     ]
    }
   ],
   "source": [
    "# open text file\n",
    "def ReadFile(filename: str):\n",
    "  with open(filename, 'r') as f:\n",
    "    lines = f.readlines()\n",
    "  return lines\n",
    "\n",
    "class RGBSet(object):\n",
    "  \n",
    "  def __init__(self, r: int = 0, g: int = 0, b: int = 0):\n",
    "    self.r = r\n",
    "    self.g = g\n",
    "    self.b = b\n",
    "  \n",
    "  def __str__(self):\n",
    "    return f'({self.r}, {self.g}, {self.b})'\n",
    "  \n",
    "  def fits(self, other):\n",
    "    return (self.r >= other.r and self.g >= other.g and self.b >= other.b)\n",
    "  \n",
    "  def increment(self, r: int = 0, g: int = 0, b: int = 0):\n",
    "    self.r += r\n",
    "    self.g += g\n",
    "    self.b += b\n",
    "    \n",
    "def ParseRGBSet(rgb_set_str: str):\n",
    "  rgb_set = RGBSet()\n",
    "  for number_color in rgb_set_str.split(','):\n",
    "    number, color = number_color.strip().split(' ')\n",
    "    if color == 'red':\n",
    "      rgb_set.increment(r=int(number))\n",
    "    elif color == 'green':\n",
    "      rgb_set.increment(g=int(number))\n",
    "    elif color == 'blue':\n",
    "      rgb_set.increment(b=int(number))\n",
    "  return rgb_set\n",
    "  \n",
    "def Solve(constraint: RGBSet, inputFileName: str) -> str:\n",
    "  lines = ReadFile(inputFileName)\n",
    "  # Each lines starts with \"Game <id>:\", then a ';' separated list of RGB values in the form of a comma separated \"<number> <color>\"\n",
    "  game_ids_sum = 0\n",
    "  for line in lines:\n",
    "    # Split the line into the game id and the list of RGB values\n",
    "    game_id, game_sets = line.split(':')\n",
    "    game_id = int(game_id.split(' ')[1])\n",
    "    game_fits = True\n",
    "    for rgb_set_str in game_sets.split(';'):\n",
    "      rgb_set = ParseRGBSet(rgb_set_str)\n",
    "      if not constraint.fits(rgb_set):\n",
    "        game_fits = False\n",
    "        break\n",
    "    if game_fits:\n",
    "      game_ids_sum += game_id\n",
    "  return game_ids_sum\n",
    "\n",
    "assert Solve(RGBSet(r=12, g=13, b=14), 'sample.txt') == 8\n",
    "part1_solution = Solve(RGBSet(r=12, g=13, b=14), 'input.txt')\n",
    "print(f'Part 1 solution: {part1_solution}')\n",
    "assert part1_solution == 2439\n",
    "\n",
    "      "
   ]
  }
 ],
 "metadata": {
  "kernelspec": {
   "display_name": "Python 3",
   "language": "python",
   "name": "python3"
  },
  "language_info": {
   "codemirror_mode": {
    "name": "ipython",
    "version": 3
   },
   "file_extension": ".py",
   "mimetype": "text/x-python",
   "name": "python",
   "nbconvert_exporter": "python",
   "pygments_lexer": "ipython3",
   "version": "3.11.5"
  }
 },
 "nbformat": 4,
 "nbformat_minor": 2
}
