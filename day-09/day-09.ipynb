{
 "cells": [
  {
   "cell_type": "code",
   "execution_count": 26,
   "metadata": {},
   "outputs": [
    {
     "name": "stdout",
     "output_type": "stream",
     "text": [
      "Part one solution: 1980437560\n",
      "2\n",
      "Part two solution: 977\n"
     ]
    }
   ],
   "source": [
    "from typing import List\n",
    "import json\n",
    "\n",
    "# open text file\n",
    "def ReadFile(filename: str):\n",
    "  with open(filename, 'r') as f:\n",
    "    lines = f.readlines()\n",
    "  return lines\n",
    "\n",
    "def ParseSequences(lines: List[str]):\n",
    "  sequences = []\n",
    "  for line in lines:\n",
    "    sequences.append([int(v.strip()) for v in line.strip().split()])\n",
    "  return sequences\n",
    "\n",
    "def GetNextValue(sequence: List[int]):\n",
    "  differences_lists = []\n",
    "  differences_lists.append(list(sequence))\n",
    "  for i in range(len(sequence) - 1):\n",
    "    current_sequence = differences_lists[-1]\n",
    "    differences_lists.append([current_sequence[j+1] - current_sequence[j] for j in range(len(current_sequence) - 1)])\n",
    "    if all([v == 0 for v in differences_lists[-1]]):\n",
    "      break\n",
    "  # print(differences_lists)\n",
    "  depth = len(differences_lists)\n",
    "  differences_lists[-1].append(0)\n",
    "  for i in range(depth - 2, -1, -1):\n",
    "    padding = differences_lists[i + 1][-1] + differences_lists[i][-1]\n",
    "    differences_lists[i].append(padding)\n",
    "  # print(differences_lists)\n",
    "  return differences_lists[0][-1]\n",
    "\n",
    "def SolvePartOne(input_file: str):\n",
    "  lines = ReadFile(input_file)\n",
    "  sequences = ParseSequences(lines)\n",
    "  next_values = [GetNextValue(sequence) for sequence in sequences]\n",
    "  return sum(next_values)\n",
    "\n",
    "def SolvePartTwo(input_file: str):\n",
    "  lines = ReadFile(input_file)\n",
    "  sequences = ParseSequences(lines)\n",
    "  # reverse each sequence\n",
    "  for sequence in sequences:\n",
    "    sequence.reverse()\n",
    "  previous_values = [GetNextValue(sequence) for sequence in sequences]\n",
    "  return sum(previous_values)\n",
    "\n",
    "assert SolvePartOne('sample.txt') == 114\n",
    "part_one_solution = SolvePartOne('input.txt')\n",
    "print(\"Part one solution: {}\".format(part_one_solution))\n",
    "assert part_one_solution == 1980437560\n",
    "\n",
    "assert SolvePartTwo('sample.txt') == 2\n",
    "part_two_solution = SolvePartTwo('input.txt')\n",
    "print(\"Part two solution: {}\".format(part_two_solution))\n",
    "assert part_two_solution == 977\n"
   ]
  }
 ],
 "metadata": {
  "kernelspec": {
   "display_name": "Python 3",
   "language": "python",
   "name": "python3"
  },
  "language_info": {
   "codemirror_mode": {
    "name": "ipython",
    "version": 3
   },
   "file_extension": ".py",
   "mimetype": "text/x-python",
   "name": "python",
   "nbconvert_exporter": "python",
   "pygments_lexer": "ipython3",
   "version": "3.11.5"
  }
 },
 "nbformat": 4,
 "nbformat_minor": 2
}
