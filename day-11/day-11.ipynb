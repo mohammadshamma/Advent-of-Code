{
 "cells": [
  {
   "cell_type": "code",
   "execution_count": 18,
   "metadata": {},
   "outputs": [
    {
     "name": "stdout",
     "output_type": "stream",
     "text": [
      "Part One Solution: 9329143\n"
     ]
    }
   ],
   "source": [
    "from typing import List\n",
    "\n",
    "# open text file\n",
    "def ReadFile(filename: str):\n",
    "  with open(filename, 'r') as f:\n",
    "    lines = f.readlines()\n",
    "  return [line.strip() for line in lines]\n",
    "\n",
    "class Grid(object):\n",
    "  \n",
    "  def __init__(self, lines: List[str]):\n",
    "    self.rows = [list(line) for line in lines]\n",
    "    self.width = len(lines[0])\n",
    "    self.height = len(lines)\n",
    "    \n",
    "  def Inflate(self):\n",
    "    # Rows with all '.' will be doubled and columns with all '.' will be doubled\n",
    "    # First start with the rows.\n",
    "    new_rows = []\n",
    "    for row in self.rows:\n",
    "      if all([c == '.' for c in row]):\n",
    "        new_rows.append(row)\n",
    "        new_rows.append(list(row))\n",
    "      else:\n",
    "        new_rows.append(row)\n",
    "    # Now do the columns\n",
    "    for i in range(len(new_rows[0]) -1, -1, -1):\n",
    "      if all([row[i] == '.' for row in new_rows]):\n",
    "        for row in new_rows:\n",
    "          row.insert(i, '.')\n",
    "    self.rows = new_rows\n",
    "    self.width = len(self.rows[0])\n",
    "    self.height = len(self.rows)\n",
    "    \n",
    "  def CountGalaxies(self):\n",
    "    # Find all the galaxies\n",
    "    galaxy_count = 0\n",
    "    for y in range(self.height):\n",
    "      for x in range(self.width):\n",
    "        if self.rows[y][x] == '#':\n",
    "          galaxy_count += 1\n",
    "    return galaxy_count\n",
    "  \n",
    "  def GetGalaxiesCoordinates(self):\n",
    "    # Find all the galaxies\n",
    "    galaxy_coordinates = []\n",
    "    for y in range(self.height):\n",
    "      for x in range(self.width):\n",
    "        if self.rows[y][x] == '#':\n",
    "          galaxy_coordinates.append((x, y))\n",
    "    return galaxy_coordinates\n",
    "  \n",
    "  def GetShortestPathBetweenGalaxyPairs(self, galaxy1: (int, int), galaxy2: (int, int)):\n",
    "    return abs(galaxy1[0] - galaxy2[0]) + abs(galaxy1[1] - galaxy2[1])\n",
    "  \n",
    "  def GetSumOfShortestPathsBetweenGalaxyPairs(self):\n",
    "    galaxy_coordinates = self.GetGalaxiesCoordinates()\n",
    "    sum_of_shortest_paths = 0\n",
    "    for i in range(len(galaxy_coordinates)):\n",
    "      for j in range(i+1, len(galaxy_coordinates)):\n",
    "        sum_of_shortest_paths += self.GetShortestPathBetweenGalaxyPairs(galaxy_coordinates[i], galaxy_coordinates[j])\n",
    "    return sum_of_shortest_paths\n",
    "\n",
    "    \n",
    "  def __str__(self):\n",
    "    return '\\n'.join([''.join(row) for row in self.rows])\n",
    "    \n",
    "def SolvePartOne(input_file: str):\n",
    "  lines = ReadFile(input_file)\n",
    "  grid = Grid(lines)\n",
    "  grid.Inflate()\n",
    "  return grid.GetSumOfShortestPathsBetweenGalaxyPairs()\n",
    "    \n",
    "assert SolvePartOne('sample.txt') == 374\n",
    "part_one_solution = SolvePartOne('input.txt')\n",
    "print(\"Part One Solution:\", part_one_solution)\n",
    "assert part_one_solution == 9329143"
   ]
  },
  {
   "cell_type": "code",
   "execution_count": null,
   "metadata": {},
   "outputs": [],
   "source": []
  }
 ],
 "metadata": {
  "kernelspec": {
   "display_name": "Python 3",
   "language": "python",
   "name": "python3"
  },
  "language_info": {
   "codemirror_mode": {
    "name": "ipython",
    "version": 3
   },
   "file_extension": ".py",
   "mimetype": "text/x-python",
   "name": "python",
   "nbconvert_exporter": "python",
   "pygments_lexer": "ipython3",
   "version": "3.11.5"
  }
 },
 "nbformat": 4,
 "nbformat_minor": 2
}
