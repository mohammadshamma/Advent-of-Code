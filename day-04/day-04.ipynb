{
 "cells": [
  {
   "cell_type": "code",
   "execution_count": 1,
   "metadata": {},
   "outputs": [
    {
     "name": "stdout",
     "output_type": "stream",
     "text": [
      "25.0\n"
     ]
    }
   ],
   "source": [
    "import math\n",
    "\n",
    "# open text file\n",
    "def ReadFile(filename: str):\n",
    "  with open(filename, 'r') as f:\n",
    "    lines = f.readlines()\n",
    "  return lines\n",
    "\n",
    "def ParseLine(line: str):\n",
    "  card_id, numbers = line.split(':')\n",
    "  winning_numbers, chosen_numbers = numbers.split('|')\n",
    "  winning_numbers_set = set(winning_numbers.split())\n",
    "  chosen_numbers_set = set(chosen_numbers.split())\n",
    "  return winning_numbers_set, chosen_numbers_set\n",
    "\n",
    "def SolvePartOne(input_filename: str):\n",
    "  lines = ReadFile(input_filename)\n",
    "  score = 0\n",
    "  for line in lines:\n",
    "    winning_numbers_set, chosen_numbers_set = ParseLine(line)\n",
    "    common_numbers = len(winning_numbers_set.intersection(chosen_numbers_set))\n",
    "    if common_numbers > 0:\n",
    "      score += math.pow(2, common_numbers - 1)\n",
    "  return score\n",
    "  \n",
    "print(SolvePartOne('sample.txt'))\n",
    "# assert SolvePartOne('sample.txt') == 4361\n",
    "# part_one_answer = SolvePartOne('input.txt')\n",
    "# print(f'Part One Answer: {part_one_answer}')\n",
    "# assert part_one_answer == 520019\n"
   ]
  }
 ],
 "metadata": {
  "kernelspec": {
   "display_name": "Python 3",
   "language": "python",
   "name": "python3"
  },
  "language_info": {
   "codemirror_mode": {
    "name": "ipython",
    "version": 3
   },
   "file_extension": ".py",
   "mimetype": "text/x-python",
   "name": "python",
   "nbconvert_exporter": "python",
   "pygments_lexer": "ipython3",
   "version": "3.11.5"
  }
 },
 "nbformat": 4,
 "nbformat_minor": 2
}
