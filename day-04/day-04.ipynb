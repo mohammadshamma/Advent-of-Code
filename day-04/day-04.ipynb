{
 "cells": [
  {
   "cell_type": "code",
   "execution_count": 6,
   "metadata": {},
   "outputs": [
    {
     "name": "stdout",
     "output_type": "stream",
     "text": [
      "Part One Answer: 25010.0\n",
      "Part Two Answer: 9924412\n"
     ]
    }
   ],
   "source": [
    "import math\n",
    "\n",
    "# open text file\n",
    "def ReadFile(filename: str):\n",
    "  with open(filename, 'r') as f:\n",
    "    lines = f.readlines()\n",
    "  return lines\n",
    "\n",
    "def ParseLine(line: str):\n",
    "  card_id, numbers = line.split(':')\n",
    "  winning_numbers, chosen_numbers = numbers.split('|')\n",
    "  winning_numbers_set = set(winning_numbers.split())\n",
    "  chosen_numbers_set = set(chosen_numbers.split())\n",
    "  return winning_numbers_set, chosen_numbers_set\n",
    "\n",
    "def SolvePartOne(input_filename: str):\n",
    "  lines = ReadFile(input_filename)\n",
    "  score = 0\n",
    "  for line in lines:\n",
    "    winning_numbers_set, chosen_numbers_set = ParseLine(line)\n",
    "    common_numbers = len(winning_numbers_set.intersection(chosen_numbers_set))\n",
    "    if common_numbers > 0:\n",
    "      score += math.pow(2, common_numbers - 1)\n",
    "  return score\n",
    "\n",
    "def SolvePartTwo(input_filename: str):\n",
    "  lines = ReadFile(input_filename)\n",
    "  card_match_count = []\n",
    "  for line in lines:\n",
    "    winning_numbers_set, chosen_numbers_set = ParseLine(line)\n",
    "    common_numbers = len(winning_numbers_set.intersection(chosen_numbers_set))\n",
    "    card_match_count.append(common_numbers)\n",
    "  card_count = [1] * len(card_match_count)\n",
    "  for i in range(len(card_match_count)):\n",
    "    for j in range(i+1, i+1+min(card_match_count[i], len(card_match_count))):\n",
    "      card_count[j] += card_count[i]\n",
    "  return sum(card_count)\n",
    "  \n",
    "assert SolvePartOne('sample.txt') == 13\n",
    "part_one_answer = SolvePartOne('input.txt')\n",
    "print(f'Part One Answer: {part_one_answer}')\n",
    "assert part_one_answer == 25010.0\n",
    "\n",
    "assert SolvePartTwo('sample.txt') == 30\n",
    "part_two_answer = SolvePartTwo('input.txt')\n",
    "print(f'Part Two Answer: {part_two_answer}')\n",
    "assert part_two_answer == 9924412"
   ]
  }
 ],
 "metadata": {
  "kernelspec": {
   "display_name": "Python 3",
   "language": "python",
   "name": "python3"
  },
  "language_info": {
   "codemirror_mode": {
    "name": "ipython",
    "version": 3
   },
   "file_extension": ".py",
   "mimetype": "text/x-python",
   "name": "python",
   "nbconvert_exporter": "python",
   "pygments_lexer": "ipython3",
   "version": "3.11.5"
  }
 },
 "nbformat": 4,
 "nbformat_minor": 2
}
