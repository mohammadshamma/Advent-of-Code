{
 "cells": [
  {
   "cell_type": "code",
   "execution_count": 10,
   "metadata": {},
   "outputs": [
    {
     "name": "stdout",
     "output_type": "stream",
     "text": [
      "Part One Solution: 17621\n"
     ]
    }
   ],
   "source": [
    "from typing import Tuple\n",
    "from typing import List\n",
    "\n",
    "class AdjacencyTuples(object):\n",
    "  \n",
    "  def __init__(self):\n",
    "    self._adjacencyMap = {}\n",
    "    \n",
    "  def Add(self, key: str, value: Tuple[str, str]):\n",
    "    self._adjacencyMap[key] = value\n",
    "    \n",
    "  def Next(self, current: str, direction: str):\n",
    "    direction_index = 0 if direction == 'L' else 1\n",
    "    return self._adjacencyMap[current][direction_index]\n",
    "  \n",
    "  def Parse(lines: List[str]):\n",
    "    adjacency_tuples = AdjacencyTuples()\n",
    "    for line in lines:\n",
    "      key_str, value_str = line.split('=')\n",
    "      key_str = key_str.strip()\n",
    "      value_str = value_str.strip()[1:-1].split(',')\n",
    "      left = value_str[0].strip()\n",
    "      right = value_str[1].strip()\n",
    "      adjacency_tuples.Add(key_str, (left, right))\n",
    "    return adjacency_tuples\n",
    "      \n",
    "\n",
    "# open text file\n",
    "def ReadFile(filename: str):\n",
    "  with open(filename, 'r') as f:\n",
    "    lines = f.readlines()\n",
    "  return lines\n",
    "\n",
    "# parse text file\n",
    "def ParseFile(lines: List[str]):\n",
    "  directions = lines[0].strip()\n",
    "  adjacency_tuples = AdjacencyTuples.Parse(lines[2:])\n",
    "  return directions, adjacency_tuples\n",
    "\n",
    "def SolvePartOne(filename: str):\n",
    "  lines = ReadFile(filename)\n",
    "  directions, adjacency_tuples = ParseFile(lines)\n",
    "  current = 'AAA'\n",
    "  idx = 0\n",
    "  steps = 0\n",
    "  while current != 'ZZZ':\n",
    "    current = adjacency_tuples.Next(current, directions[idx])\n",
    "    steps += 1\n",
    "    idx = steps % len(directions)\n",
    "  return steps\n",
    "\n",
    "assert SolvePartOne('sample.txt') == 2\n",
    "assert SolvePartOne('sample2.txt') == 6\n",
    "part_one_solution = SolvePartOne('input.txt')\n",
    "print('Part One Solution:', part_one_solution)\n",
    "assert part_one_solution == 17621"
   ]
  }
 ],
 "metadata": {
  "kernelspec": {
   "display_name": "Python 3",
   "language": "python",
   "name": "python3"
  },
  "language_info": {
   "codemirror_mode": {
    "name": "ipython",
    "version": 3
   },
   "file_extension": ".py",
   "mimetype": "text/x-python",
   "name": "python",
   "nbconvert_exporter": "python",
   "pygments_lexer": "ipython3",
   "version": "3.11.5"
  }
 },
 "nbformat": 4,
 "nbformat_minor": 2
}
